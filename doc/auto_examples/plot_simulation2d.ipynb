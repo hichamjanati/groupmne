{
  "cells": [
    {
      "cell_type": "code",
      "execution_count": null,
      "metadata": {
        "collapsed": false
      },
      "outputs": [],
      "source": [
        "%matplotlib inline"
      ]
    },
    {
      "cell_type": "markdown",
      "metadata": {},
      "source": [
        "\n# MTW synthetic images\n\n\nThis example generates 3 synthetic sparse images (as regression coefficients)\nwhich are fed to random gaussian matrices X. Increasing the Wasserstein\nhyperparameter increases consistency across regression coefficients.\n"
      ]
    },
    {
      "cell_type": "code",
      "execution_count": null,
      "metadata": {
        "collapsed": false
      },
      "outputs": [],
      "source": [
        "import numpy as np\nimport matplotlib.pyplot as plt\nfrom matplotlib import cm\n\nfrom mtw import MTW, utils\nfrom mtw.examples_utils import (generate_dirac_images, gaussian_design,\n                                contour_coefs)\n\n\nprint(__doc__)\n\nprint(\"Generating data...\")\n\nseed = 42\nwidth, n_tasks = 32, 4\nnnz = 3  # number of non zero elements per image\noverlap = 0.\npositive = True\nn_features = width ** 2\nn_samples = n_features // 2\n\n\"\"\"Generate Coefs and X, Y data...\"\"\"\ncoefs = generate_dirac_images(width, n_tasks, nnz=nnz, positive=positive,\n                              seed=seed, overlap=overlap)\ncoefs_flat = coefs.reshape(-1, n_tasks)\n\nstd = 0.25\nX, Y = gaussian_design(n_samples, coefs_flat, corr=0.95, sigma=std,\n                       scaled=True, seed=seed)"
      ]
    },
    {
      "cell_type": "markdown",
      "metadata": {},
      "source": [
        "set ot params\n\n"
      ]
    },
    {
      "cell_type": "code",
      "execution_count": null,
      "metadata": {
        "collapsed": false
      },
      "outputs": [],
      "source": [
        "epsilon = 2.5 / n_features\nM = utils.groundmetric2d(n_features, p=2, normed=True)\ngamma = utils.compute_gamma(0.8, M)"
      ]
    },
    {
      "cell_type": "markdown",
      "metadata": {},
      "source": [
        "set hyperparameters and fit MTW\n\n"
      ]
    },
    {
      "cell_type": "code",
      "execution_count": null,
      "metadata": {
        "collapsed": false
      },
      "outputs": [],
      "source": [
        "betamax = np.array([x.T.dot(y) for x, y in zip(X, Y)]).max() / n_samples\nalpha = 10. / n_samples\nbeta_fr = 0.35\n\nbeta = beta_fr * betamax\n\ncallback_options = {'callback': True,\n                    'x_real': coefs.reshape(- 1, n_tasks),\n                    'verbose': True, 'rate': 1}\n\nprint(\"Fitting MTW model...\")\nmtw = MTW(M=M, alpha=alpha, beta=beta, sigma0=0., positive=positive,\n          epsilon=epsilon, gamma=gamma, stable=False, tol_ot=1e-6, tol=1e-4,\n          maxiter_ot=10, maxiter=2000, n_jobs=n_tasks,\n          gpu=False, **callback_options)\nmtw.fit(X, Y)"
      ]
    },
    {
      "cell_type": "markdown",
      "metadata": {},
      "source": [
        "Now we plot the 3 images on top of each other (True), the MTW fitted\ncoefficients and their latent Wasserstein barycenter\"\"\"\n\n"
      ]
    },
    {
      "cell_type": "code",
      "execution_count": null,
      "metadata": {
        "collapsed": false
      },
      "outputs": [],
      "source": [
        "f, axes = plt.subplots(1, 3, figsize=(12, 4))\ncoefs = coefs.reshape(width, width, -1)\ncoefs_mtw = mtw.coefs_.reshape(width, width, -1)\nthetabar = mtw.barycenter_.reshape(width, width)[:, :, None]\ncontours = [coefs, coefs_mtw, thetabar]\ntitles = [\"True\", \"Recovered\", \"Barycenter\"]\ncmaps = [cm.Reds, cm.Blues, cm.Greens, cm.Oranges, cm.Greys, cm.Purples]\n\nfor ax, data_, t in zip(axes.ravel(), contours, titles):\n    contour_coefs(data_, ax, cmaps=cmaps, title=t)\naxes[-1].clear()\ncontour_coefs(thetabar, ax=axes[-1], cmaps=cmaps,\n              title=\"barycenter Contours\")\nplt.tight_layout()\nplt.show()"
      ]
    }
  ],
  "metadata": {
    "kernelspec": {
      "display_name": "Python 3",
      "language": "python",
      "name": "python3"
    },
    "language_info": {
      "codemirror_mode": {
        "name": "ipython",
        "version": 3
      },
      "file_extension": ".py",
      "mimetype": "text/x-python",
      "name": "python",
      "nbconvert_exporter": "python",
      "pygments_lexer": "ipython3",
      "version": "3.7.2"
    }
  },
  "nbformat": 4,
  "nbformat_minor": 0
}